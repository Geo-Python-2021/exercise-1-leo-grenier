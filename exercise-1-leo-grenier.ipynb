{
 "cells": [
  {
   "cell_type": "code",
   "execution_count": 12,
   "id": "beaf2aed-903f-42ea-abf7-7debd1eab73d",
   "metadata": {},
   "outputs": [],
   "source": [
    "ice_cream_rating=6"
   ]
  },
  {
   "cell_type": "code",
   "execution_count": 3,
   "id": "56e9dd35-6394-4c0b-b479-256709e5c416",
   "metadata": {},
   "outputs": [],
   "source": [
    "sleeping_rating=7"
   ]
  },
  {
   "cell_type": "code",
   "execution_count": 4,
   "id": "f0c31b92-3962-4d1f-87d6-cc265a3f5f59",
   "metadata": {},
   "outputs": [
    {
     "name": "stdin",
     "output_type": "stream",
     "text": [
      "--> leo\n"
     ]
    }
   ],
   "source": [
    "first_name=input('-->')"
   ]
  },
  {
   "cell_type": "code",
   "execution_count": 5,
   "id": "93f1e384-e8c5-4946-bea0-0f3652994656",
   "metadata": {
    "tags": []
   },
   "outputs": [
    {
     "name": "stdin",
     "output_type": "stream",
     "text": [
      "--> grenier\n"
     ]
    }
   ],
   "source": [
    "last_name=input('-->')"
   ]
  },
  {
   "cell_type": "code",
   "execution_count": 6,
   "id": "2271a58e-d695-4db3-be45-033b0f59bf7e",
   "metadata": {},
   "outputs": [],
   "source": [
    "my_name=first_name, last_name"
   ]
  },
  {
   "cell_type": "code",
   "execution_count": 8,
   "id": "daa978b7-b923-436c-8a60-a00bc1261b94",
   "metadata": {},
   "outputs": [],
   "source": [
    "import statistics"
   ]
  },
  {
   "cell_type": "code",
   "execution_count": 16,
   "id": "2602946a-f91b-4c88-824a-651329e84d29",
   "metadata": {},
   "outputs": [
    {
     "ename": "TypeError",
     "evalue": "'int' object is not iterable",
     "output_type": "error",
     "traceback": [
      "\u001b[1;31m---------------------------------------------------------------------------\u001b[0m",
      "\u001b[1;31mTypeError\u001b[0m                                 Traceback (most recent call last)",
      "\u001b[1;32m~\\AppData\\Local\\Temp/ipykernel_28872/206784529.py\u001b[0m in \u001b[0;36m<module>\u001b[1;34m\u001b[0m\n\u001b[1;32m----> 1\u001b[1;33m \u001b[0mhappiness_rating\u001b[0m\u001b[1;33m=\u001b[0m \u001b[0mstatistics\u001b[0m\u001b[1;33m.\u001b[0m\u001b[0mmean\u001b[0m\u001b[1;33m(\u001b[0m\u001b[0mice_cream_rating\u001b[0m\u001b[1;33m+\u001b[0m\u001b[0msleeping_rating\u001b[0m\u001b[1;33m)\u001b[0m\u001b[1;33m\u001b[0m\u001b[1;33m\u001b[0m\u001b[0m\n\u001b[0m",
      "\u001b[1;32mC:\\ProgramData\\Miniconda3\\envs\\geo-python-student\\lib\\statistics.py\u001b[0m in \u001b[0;36mmean\u001b[1;34m(data)\u001b[0m\n\u001b[0;32m    309\u001b[0m     \u001b[0mIf\u001b[0m\u001b[0;31m \u001b[0m\u001b[0;31m`\u001b[0m\u001b[0;31m`\u001b[0m\u001b[0mdata\u001b[0m\u001b[0;31m`\u001b[0m\u001b[0;31m`\u001b[0m \u001b[1;32mis\u001b[0m \u001b[0mempty\u001b[0m\u001b[1;33m,\u001b[0m \u001b[0mStatisticsError\u001b[0m \u001b[0mwill\u001b[0m \u001b[0mbe\u001b[0m \u001b[0mraised\u001b[0m\u001b[1;33m.\u001b[0m\u001b[1;33m\u001b[0m\u001b[1;33m\u001b[0m\u001b[0m\n\u001b[0;32m    310\u001b[0m     \"\"\"\n\u001b[1;32m--> 311\u001b[1;33m     \u001b[1;32mif\u001b[0m \u001b[0miter\u001b[0m\u001b[1;33m(\u001b[0m\u001b[0mdata\u001b[0m\u001b[1;33m)\u001b[0m \u001b[1;32mis\u001b[0m \u001b[0mdata\u001b[0m\u001b[1;33m:\u001b[0m\u001b[1;33m\u001b[0m\u001b[1;33m\u001b[0m\u001b[0m\n\u001b[0m\u001b[0;32m    312\u001b[0m         \u001b[0mdata\u001b[0m \u001b[1;33m=\u001b[0m \u001b[0mlist\u001b[0m\u001b[1;33m(\u001b[0m\u001b[0mdata\u001b[0m\u001b[1;33m)\u001b[0m\u001b[1;33m\u001b[0m\u001b[1;33m\u001b[0m\u001b[0m\n\u001b[0;32m    313\u001b[0m     \u001b[0mn\u001b[0m \u001b[1;33m=\u001b[0m \u001b[0mlen\u001b[0m\u001b[1;33m(\u001b[0m\u001b[0mdata\u001b[0m\u001b[1;33m)\u001b[0m\u001b[1;33m\u001b[0m\u001b[1;33m\u001b[0m\u001b[0m\n",
      "\u001b[1;31mTypeError\u001b[0m: 'int' object is not iterable"
     ]
    }
   ],
   "source": [
    "happiness_rating= statistics.mean(ice_cream_rating+sleeping_rating)"
   ]
  },
  {
   "cell_type": "code",
   "execution_count": 15,
   "id": "79545518-49d4-44a6-81a7-fa8c46d30fd2",
   "metadata": {},
   "outputs": [
    {
     "name": "stdout",
     "output_type": "stream",
     "text": [
      "6.5\n"
     ]
    }
   ],
   "source": [
    "happiness_rating=(ice_cream_rating+sleeping_rating)/2\n",
    "print(happiness_rating)"
   ]
  },
  {
   "cell_type": "code",
   "execution_count": 27,
   "id": "a25c3b2b-5ba1-4e47-b720-e3ce2275413d",
   "metadata": {},
   "outputs": [
    {
     "name": "stdout",
     "output_type": "stream",
     "text": [
      "<class 'int'>\n",
      "<class 'str'>\n",
      "<class 'float'>\n"
     ]
    }
   ],
   "source": [
    "print(type (ice_cream_rating))\n",
    "print(type (first_name))\n",
    "print(type (happiness_rating))"
   ]
  },
  {
   "cell_type": "code",
   "execution_count": 30,
   "id": "39cadad3-4586-41a4-8732-40816e8564cf",
   "metadata": {},
   "outputs": [
    {
     "name": "stdout",
     "output_type": "stream",
     "text": [
      "Yes\n"
     ]
    }
   ],
   "source": [
    "print ('Yes')"
   ]
  },
  {
   "cell_type": "code",
   "execution_count": 35,
   "id": "5b87eaed-f1d3-45ad-8e71-9d4ae1007197",
   "metadata": {},
   "outputs": [
    {
     "name": "stdout",
     "output_type": "stream",
     "text": [
      "My name is leo and I give eating ice cream a score of 6 out of 10!\n",
      "I am leo grenier and my sleeping enjoyment rating is 7 / 10!\n",
      "Based on the factors above, my happiness rating is 6.5 out of 10, or 65.0 %!\n"
     ]
    }
   ],
   "source": [
    "print('My name is',first_name, 'and I give eating ice cream a score of', ice_cream_rating, 'out of 10!')\n",
    "print('I am', first_name, last_name, 'and my sleeping enjoyment rating is', sleeping_rating, '/ 10!')\n",
    "print('Based on the factors above, my happiness rating is', happiness_rating, 'out of 10, or', happiness_rating*10, '%!')"
   ]
  },
  {
   "cell_type": "code",
   "execution_count": null,
   "id": "364e5674-6d3a-436e-aa77-3de7bcb4542e",
   "metadata": {},
   "outputs": [],
   "source": []
  }
 ],
 "metadata": {
  "kernelspec": {
   "display_name": "Python 3 (ipykernel)",
   "language": "python",
   "name": "python3"
  },
  "language_info": {
   "codemirror_mode": {
    "name": "ipython",
    "version": 3
   },
   "file_extension": ".py",
   "mimetype": "text/x-python",
   "name": "python",
   "nbconvert_exporter": "python",
   "pygments_lexer": "ipython3",
   "version": "3.8.10"
  }
 },
 "nbformat": 4,
 "nbformat_minor": 5
}
